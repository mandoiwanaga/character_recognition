{
 "cells": [
  {
   "cell_type": "code",
   "execution_count": 1,
   "metadata": {},
   "outputs": [],
   "source": [
    "import pytesseract\n",
    "from PIL import Image\n",
    "import cv2\n",
    "import numpy as np\n",
    "import csv\n",
    "from pytesseract import Output\n",
    "from functions import deskew, get_grayscale, thresholding, deskew_gray, deskew_gray_thresh"
   ]
  },
  {
   "cell_type": "code",
   "execution_count": 2,
   "metadata": {},
   "outputs": [],
   "source": [
    "#incorporate flattening images \n",
    "#add functions to replace certain characters to new standard rules "
   ]
  },
  {
   "cell_type": "code",
   "execution_count": 3,
   "metadata": {},
   "outputs": [],
   "source": [
    "test_image = cv2.imread('data/test_2.jpg')\n",
    "image = deskew_gray_thresh(test_image)\n",
    "#cv2.imshow('t', image)\n",
    "#cv2.waitKey(0)\n",
    "#cv2.imwrite('./data/processed_image_2.jpg', image)"
   ]
  },
  {
   "cell_type": "code",
   "execution_count": 4,
   "metadata": {},
   "outputs": [],
   "source": [
    "#print(pytesseract.image_to_string(image, lang='spa+eng+spa_old'))"
   ]
  },
  {
   "cell_type": "code",
   "execution_count": 5,
   "metadata": {},
   "outputs": [],
   "source": [
    "details = pytesseract.image_to_data(image, output_type=Output.DICT, lang='spa+eng+spa_old')"
   ]
  },
  {
   "cell_type": "code",
   "execution_count": 6,
   "metadata": {},
   "outputs": [],
   "source": [
    "total_boxes = len(details['text'])\n",
    "for sequence_number in range(total_boxes):\n",
    "    if int(details['conf'][sequence_number]) >30:\n",
    "        (x, y, w, h) = (details['left'][sequence_number], details['top'][sequence_number], details['width'][sequence_number],  details['height'][sequence_number])\n",
    "        threshold_img = cv2.rectangle(image, (x, y), (x + w, y + h), (0, 255, 0), 2)\n",
    "# display image\n",
    "#cv2.imshow('captured text', threshold_img)\n",
    "# Maintain output window until user presses a key\n",
    "#cv2.waitKey(0)\n",
    "# Destroying present windows on screen\n",
    "#cv2.destroyAllWindows()"
   ]
  },
  {
   "cell_type": "code",
   "execution_count": 7,
   "metadata": {},
   "outputs": [],
   "source": [
    "parse_text = []\n",
    "word_list = []\n",
    "last_word = ''\n",
    "for word in details['text']:\n",
    "    if word!='':\n",
    "        word_list.append(word)\n",
    "        last_word = word\n",
    "    if (last_word!='' and word == '') or (word==details['text'][-1]):\n",
    "        parse_text.append(word_list)\n",
    "        word_list = []"
   ]
  },
  {
   "cell_type": "code",
   "execution_count": 8,
   "metadata": {},
   "outputs": [],
   "source": [
    "with open('data/result_text.txt',  'w', newline=\"\") as file:\n",
    "    csv.writer(file, delimiter=\" \").writerows(parse_text)"
   ]
  },
  {
   "cell_type": "code",
   "execution_count": null,
   "metadata": {},
   "outputs": [],
   "source": []
  }
 ],
 "metadata": {
  "kernelspec": {
   "display_name": "learn-env",
   "language": "python",
   "name": "learn-env"
  },
  "language_info": {
   "codemirror_mode": {
    "name": "ipython",
    "version": 3
   },
   "file_extension": ".py",
   "mimetype": "text/x-python",
   "name": "python",
   "nbconvert_exporter": "python",
   "pygments_lexer": "ipython3",
   "version": "3.6.6"
  }
 },
 "nbformat": 4,
 "nbformat_minor": 2
}
